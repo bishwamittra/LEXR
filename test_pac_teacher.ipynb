{
 "cells": [
  {
   "cell_type": "code",
   "execution_count": 1,
   "metadata": {},
   "outputs": [],
   "source": [
    "%load_ext autoreload\n",
    "\n",
    "%autoreload 2\n",
    "\n",
    "from RNN2DFA.LSTM import LSTMNetwork\n",
    "# from GRU import GRUNetwork\n",
    "from RNN2DFA.RNNClassifier import RNNClassifier\n",
    "from RNN2DFA.Training_Functions import mixed_curriculum_train\n",
    "import Tomita_Grammars \n",
    "from RNN2DFA.Training_Functions import make_test_set,make_train_set_for_target\n",
    "from RNNexplainer import Explainer\n",
    "import pandas as pd\n",
    "import LTL2DFA as ltlf2dfa\n",
    "\n",
    "\n",
    "\n"
   ]
  },
  {
   "cell_type": "code",
   "execution_count": 2,
   "metadata": {},
   "outputs": [],
   "source": [
    "from specific_examples import Alternating_Bit_Protocol\n",
    "abp=Alternating_Bit_Protocol()\n",
    "generator_dfa=abp.dfa\n",
    "target_formula=abp.target_formula\n",
    "alphabet=generator_dfa.alphabet\n",
    "\n"
   ]
  },
  {
   "cell_type": "code",
   "execution_count": 3,
   "metadata": {},
   "outputs": [],
   "source": [
    "from specific_examples import Email\n",
    "email=Email()\n",
    "generator_dfa=email # to make everything work\n",
    "target_formula=email.target_formula\n",
    "alphabet=email.alphabet\n"
   ]
  },
  {
   "cell_type": "code",
   "execution_count": 4,
   "metadata": {
    "tags": [
     "outputPrepend",
     "outputPrepend",
     "outputPrepend"
    ]
   },
   "outputs": [
    {
     "output_type": "stream",
     "name": "stdout",
     "text": "DFA:->\n - alphabet: ['a', 'b', 'c']\n - Q: [1, 2, 3, 4]\n - q0: 1\n - F: [4]\n - delta: {1: {'000': 2, '001': 2, '010': 2, '011': 2, '100': 3, '101': 3, '110': 3, '111': 3}, 2: {'000': 2, '001': 2, '010': 2, '011': 2, '100': 3, '101': 3, '110': 3, '111': 3}, 3: {'000': 2, '001': 2, '010': 4, '011': 4, '100': 3, '101': 3, '110': 4, '111': 4}, 4: {'000': 4, '001': 4, '010': 4, '011': 4, '100': 4, '101': 4, '110': 4, '111': 4}}\n - is_singleton_graph: False\n"
    }
   ],
   "source": [
    "\n",
    "\n",
    "\n",
    "# make training set on grammars\n",
    "# target = Tomita_Grammars.tomita_email\n",
    "# alphabet = \"pqradmn\"\n",
    "# generator_dfa.classify_word=target\n",
    "# target_formula=\"mail string match\"\n",
    "\n",
    "\n",
    "# use a dfa to generate training set\n",
    "target_formula=\"F(a & X(b))\"\n",
    "alphabet=\"abc\"\n",
    "import LTL2DFA as ltlf2dfa\n",
    "generator_dfa=ltlf2dfa.translate_ltl2dfa(alphabet=[character for character in alphabet],formula=target_formula)\n",
    "print(generator_dfa)\n",
    "\n",
    "\n",
    "\n",
    "\n",
    "\n",
    "# print(train_set)\n",
    "# print(\"\\n\\nPositive examples:\")\n",
    "# for key in train_set:\n",
    "#     if(train_set[key]):\n",
    "#         print(key)\n",
    "# print(train_set)\n"
   ]
  },
  {
   "cell_type": "code",
   "execution_count": 5,
   "metadata": {},
   "outputs": [],
   "source": [
    "fout=open(\"output/log.txt\", \"a\")\n",
    "fout.write(\".........................................................................\\n\")\n",
    "fout.write(\"Target: \"+ target_formula)\n",
    "fout.write(\"\\n\")\n",
    "fout.close()"
   ]
  },
  {
   "cell_type": "code",
   "execution_count": 6,
   "metadata": {
    "tags": [
     "outputPrepend"
    ]
   },
   "outputs": [
    {
     "output_type": "stream",
     "name": "stdout",
     "text": "made train set of size: 10860 , of which positive examples: 5427\n"
    }
   ],
   "source": [
    "# make training set\n",
    "train_set = make_train_set_for_target(generator_dfa.classify_word,alphabet,max_train_samples_per_length=1000,search_size_per_length=3000)\n",
    "# print(train_set)"
   ]
  },
  {
   "cell_type": "code",
   "execution_count": 7,
   "metadata": {
    "tags": [
     "outputPrepend"
    ]
   },
   "outputs": [
    {
     "output_type": "stream",
     "name": "stdout",
     "text": "bbcccc': False, 'acbccbbbcccacbbacbba': False, 'bbcbcbaaacbcbcaccaca': False, 'cbcacbacbaccccbaacba': False, 'cbbccbcbccaacaaacaca': False, 'bbbbcbacccaaacaacacc': False, 'ccaacbcbcbacbcacacbb': False, 'cbccbcccbcccacacbacb': False, 'ccbcccbccbcacbacccbb': False, 'accaccbcccbbaaacbaac': False, 'bcaaacbbbaccaaccaaca': False, 'bbcbcbacaacbbcccbacb': False, 'bacacbcaccaaccaaacaa': False, 'accacaaccbcccbacbcba': False, 'cacacbcbbcccccbbbbbc': False, 'aacbbcbcbbacaaaccbbc': False, 'bbbbbccbacccbbcbcccc': False, 'aacbbbbacbcacaacacbb': False, 'cacbcaaccccaaacbbcac': False, 'bbcbacbaccacccaccbcb': False, 'bcacaaaacbcaaacbcbac': False, 'cbcccbcbacaaacaaacbb': False, 'caacbcaacbbbccbccbbc': False, 'bbaaacbbbaacacbbaccc': False, 'cbbacacbbbccbcccbcbc': False, 'accbcaaacbccacccbaca': False, 'cbccbbccaaacbacccbba': False, 'bbcbbcbcaccacbcbbaac': False, 'baacaccacbbbbbaacaca': False, 'bccbcacaccccbcacaaaa': False, 'caaccbaacbcbcbcacaca': False, 'cbaccbbcbbcbccccbccb': False, 'cbbbbcaccaaccbbbbbca': False, 'bbbacccbbbbcbbbaacba': False, 'cbacaaccacaaacbcbbca': False, 'bccbbacccbcaccccaccc': False, 'aacacbccbbacbbbbacca': False, 'acbbaccaccaaccccacba': False, 'bcbccbccbcbaccbcaccc': False, 'cacbbbcccacbbcbaaaca': False, 'aacacaaccbccbccccbbc': False, 'acccbaccaaaaccbaacac': False, 'ccbcaccaccbaacccaccc': False, 'cbcbbaaccaacbbbbccac': False, 'aacaccccacccaacaccba': False, 'aaaaacbacbbbbbaacbac': False, 'baccaaacbcbbcbaccbcb': False, 'caacacbbccacaacbbaca': False, 'bbccbccbccbccaacacba': False, 'bcacacbbbacbbbcbacaa': False, 'aacbccccbcacbbacbbac': False, 'bbacbbaccbaaaacaccbc': False, 'bcbacacbaacacbacacbc': False, 'bcaaaacaaaccbaacbccc': False, 'bcbbcbbbbbccbbcaacca': False, 'accacbbcccbcbaacacac': False, 'ccbbacbccacccaaaacbc': False, 'accacaacbccbaaaccbba': False, 'cbcaacbcaacaacbcccca': False, 'cbcbcacaaacaaacccccb': False, 'acaacbbcbcbccbacbbcb': False, 'acbcbbcccbcacbbacaca': False, 'ccaacbcbacbbaaccaaca': False, 'accbbcbbcacbccbcbbca': False, 'cacaccbccacbccbaccca': False, 'aaacbbcacccbbacbacbb': False, 'bccbaccbaaacbacbbccb': False, 'aacbcbaaacacbbaacccc': False, 'cbaacbbbacaacbbbaaac': False, 'bbbcaccbaaccbbbbbbba': False, 'bcacaccbbccbbbbcbbaa': False, 'ccbcacbaccbacaaaacbc': False, 'bacaaacbcacbbacbacac': False, 'bcbcbcbccbacaacacaca': False, 'bbacbbcbccaacbbbacca': False, 'bacaccbaaacacbcacbca': False, 'bbcbcbbbbcbcbbacccac': False, 'aacaacaccacbacbbbaca': False, 'aacbcccbacaaccbbbacb': False, 'acbaacaaacbbccacbaaa': False, 'cbaccbbbccccacccbbcc': False, 'cbccaaccbbaacbcbccbc': False, 'bcbcbbbbbacaacccaaca': False, 'cbaccbbbccbbccbacccc': False, 'cbacbbbcaacacbbcbacb': False, 'baaaacccbccbcbccacbb': False, 'cacbbccbbbcbacbbacbc': False, 'ccbcacbbaaccccbaacac': False, 'acacbacbbbacbaacbbcc': False, 'accaacaccaaaacccacca': False, 'acacbacccbbacbccacaa': False, 'ccbcacbbcccbaacacbcb': False, 'baaccbbcbccaaccbbcca': False, 'cbbbaccaacbaaaaacccc': False, 'cbccaacbccbccbbcacac': False, 'cbbcbaaccbcaccaaaaaa': False, 'bbbbcbaccccbbcbbcacc': False, 'accbacbccccacaccbbba': False, 'ccbaacaacbbcbbccaccc': False, 'ccaacbcccaaaacccaaac': False, 'bccbbbcacacacbaccbcc': False, 'ccbbacbaaaccccccbbba': False, 'bbccbbbaaacbbacbbcbb': False, 'bcacbbcaacbcbccbbacc': False, 'cbbaacbcbccbaacaccaa': False, 'baaaacbcaccbbbaaacca': False, 'cccacbcbbbbcccbacbcc': False, 'bccacaaacbbcbbccbbcc': False, 'bcacacaccacbcccaccca': False, 'bcaccbcbccbbcaaacbca': False, 'cbacbcbccbccacbcacaa': False, 'bacacbaacbcaacbbbcba': False, 'bcbbccbcccccaaaccacc': False, 'bacbacbbcbbccbbcaaaa': False, 'aaaccbcbbacccccccbcb': False, 'ccbbbbbaaaacaccbaaca': False, 'cbcaaaccccaaaacacaaa': False, 'ccccccacaccccbcbacba': False, 'cccbcacbbcccbcccccba': False, 'cbbaaacbacacbccbaaac': False, 'cbccbaccbbccbccaaacb': False, 'cacbbbbbacbbcbcbbbca': False, 'ccccaaacccbaccccbacb': False, 'cacbcaacbbcbcaacbcca': False, 'aaccacaaaacccccbaaac': False, 'bbbaacbaccbcacbccccb': False, 'acbcbaacbbcbaccbaacc': False, 'acbccbbbcaccacbbbcba': False, 'baaaccbbbbaccaacaaac': False, 'aaccccccbcaccbcaaccc': False, 'cbbaacbacbbbacaccaaa': False, 'bbccbbacbccbcaaacbca': False, 'cacbcbacbbccaaccbbcc': False, 'bbbaacbcbbbcbacccbca': False, 'ccbbaccacbacbcbcbaac': False, 'cccaacbbbccaacbbbbba': False, 'cbcaacacacbcbbcacbaa': False, 'acbbcbbacacbcccacaaa': False, 'bbcbccacccbcaacccbaa': False, 'cbacbbaccaccbbbccccb': False, 'cbbbaccacbacccaaaaaa': False, 'acbccbaacbbaaacbbbba': False, 'baccbcbbbcaaaacacaaa': False, 'cbcacbbccbbbacbacacc': False, 'acacbbaacbaaccccaacb': False, 'bbacaccaaccccbacacbc': False, 'cbbacccccaaaaccccccb': False, 'bbcbaaccccbccbbcacaa': False, 'aacacccaacbbacbbbcac': False, 'caaacbcbcbbcacacbcba': False, 'aaaacbbbcaaacbcaaacb': False, 'bccccaaacccbcacacbbb': False, 'cbbbacbbacacbcaaccca': False, 'cacbaccbcbcacccccaca': False, 'bacbbcbcccbacccbbaac': False, 'bcbcacacbbbbccbbbaca': False, 'baacccacbaacaaacbcba': False, 'bccaaaaacacbaaccbbac': False, 'cccaaccbccaaccccbaaa': False, 'bcacbccbacbcbbacbccc': False, 'bbccccbbaccbbcaccccc': False, 'cbcaccbbbbaacacbcbaa': False, 'aacbcaacbbcbacccccbc': False, 'baaacbcaacaaaaccbbca': False, 'acbccbacccccbbbacbcb': False, 'bbbcbcccaccbaacacaac': False, 'ccccbacbacbacacbbaac': False, 'acbaccbaacbacaccbbaa': False, 'bbacccacbacaaaacacac': False, 'cacbaccbccbacbbbcacb': False, 'bbaccacbbccbaacccccc': False, 'bbaaccbcaaccccccbccb': False, 'bbacbbbcccccccaccbaa': False, 'bbcccaacaacbbcbaacca': False, 'aaacbcbbacacbccbbccc': False, 'accaacccbcbbbcacbaaa': False, 'bcacbbcaaccbaccbcbac': False, 'cbbccaaacaccccbcaaaa': False, 'bbcaacacaacbbaacbaaa': False, 'caacacccccccbacbcbba': False, 'bbcccbaacbcbccbaacaa': False, 'acbcbacacbacbaccaacb': False, 'bacbcbcaacaccbbbbbba': False, 'bcbccacacaacbacccbba': False, 'cbbacccbaaccacacacbc': False, 'acccacbcccaacbcaacbc': False, 'bbccbbacacacbbcbacac': False, 'bbaaaacbbbaaacaacbac': False, 'bacccccbbbaaaccbbbba': False, 'bbcbbbbacaccbcaaccbc': False, 'cacacccbcacbcccaacba': False, 'acccbaaaccaacccaacba': False, 'acacccacacbbcccbbcca': False, 'cacacccacbaccbbbbbba': False, 'bcbaacbbbacbaaacbbcb': False, 'caccbacbbbbbccbbcbcc': False, 'acaaaacbacaaacbacbcb': False, 'bbbacbcbccacacbcbcac': False, 'cbacbbbcaaccbbbbcbba': False, 'cbcbaacbcccbaacbccca': False, 'acbaccbcbbcccbbcacaa': False, 'cccbaccbbacccccacaca': False, 'bccaccbbaccbbcacbcaa': False, 'bbbbccbacbbccbcbcacc': False, 'ccbcbcbccacccbacbcaa': False, 'bcccbaacacccaccacbcc': False, 'ccacbccbaaacaacccbac': False, 'cbaccbbbaacccbcbbbaa': False, 'acbacbaacaacaccbbaca': False, 'cacacccccaaacaaacccc': False, 'ccacccbcccaccccbbaac': False, 'cccbbacaaaaaaaaaacbc': False, 'bbccbbacaacbbbbbbbbc': False, 'acaccacccbacbcbccbca': False, 'ccaccccbbbacaaaacbca': False, 'ccccbbbbbcaacbbacbac': False, 'bacbccabaaaacacacbcbcbbca': True, 'abcbbcbabcabbcbaccacbabab': True, 'cbbaccbaaabbccbbabbbabbbb': True, 'acbacaaabbbbbababcababbca': True, 'baaaaabbbcbcbccbcaaacabac': True, 'ccabcaacabbbaccbabacaabbb': True, 'acbcabccbcacbcabaaaabbccb': True, 'aaabaabbbbacbccccabbccacc': True, 'abaaaacbaccabbbaabaabbbcb': True, 'abbcbbbcbcaccbacaccbacaac': True, 'aacaabcaaccbcabaaaccbcbbc': True, 'cabbbcaaacaabcacccaabbcbb': True, 'ccbbbacbcabbcccaaacaccbab': True, 'abbbccbabbbbbaacaacbbbcaa': True, 'aacacacccbbbbbacaabbacccc': True, 'bbabcaabcbabcbcaccbabaaaa': True, 'caacbabacabcbbaaaacccabcc': True, 'cbcbbaccacbcabbcaaccbaccb': True, 'bbaacbcbaccabbbaacbcbcbbb': True, 'abcbbccacbacbacbbbababaca': True, 'aaaacccbcacbbabccaccaabca': True, 'babcbcbacbbbcbcbbacbaaaab': True, 'caaababbccbcbaaccbaabcaab': True, 'abaaacabccbbaacacccccbccc': True, 'bbbbbcacaccbcaacbacaabcab': True, 'acaaccbbccbbcabcbccbbbacc': True, 'bcbbbbabbaaababacccbacbba': True, 'bbabcacaaabcccaacbcacbcab': True, 'ccabaaabaccabbbbabccbbbab': True, 'acbbbcaabcacabbcabbbcaccc': True, 'ccbbcabbbcbbcabcbbcbacaaa': True, 'cbcbaccbbcaacaacbccbbabab': True, 'cbbbbbcbaababaabbaabccabc': True, 'abacbccccbabcabaaabababac': True, 'cabccababbaacbbabaabaaaca': True, 'aaaabbbbccccbacbacbabcaac': True, 'babcbcacabbbaabababbcaaab': True, 'bbbcccbacabbbcccabcbaccca': True, 'bacbabbbcbcbabccabababccb': True, 'cccbabbbbabbacccaacababbc': True, 'abbacbbccabcabccbbbbabcac': True, 'cbaabbcababacabaaabccaabc': True, 'cccbbbcbaccabaaabaccbccab': True, 'aaaacabacacbccbbbcbbacbba': True, 'cabbcaabcccccacbacbabcaab': True, 'cabacaaababaabccbacbaabcb': True, 'abbaccababbcbbacbcabccacc': True, 'abacaccbabccbcbcbaccacaba': True, 'bcbcbcbcabcabbacaabbbccab': True, 'baababbabccaabbcabbbabbbb': True, 'caacacababbbaaabacbbcaaab': True, 'aabbbaababbabaaaccacbabbc': True, 'baacaccbaabbacbcacbbcbbba': True, 'abcacbaacacccbbcbbbbbabaa': True, 'cbaacacbaabcaaacbaaaaacbc': True, 'bcaaaacabcbcacabbccbaaccb': True, 'cbccbcbcbaabaaabbcacccbcb': True, 'cabacbbbaccbcabacacabccca': True, 'baaabaabbcaaccbbacabbccba': True, 'ccaaccacabccccbcacacbacba': True, 'cacbbacbabbacccaccbcbcaaa': True, 'ccaaabbbabbcccbaaabcabbbb': True, 'cacbaaaaaabacbacaccbaabcb': True, 'cbcabaacaabcacbbabccbaaaa': True, 'aaaacccabaaacabcaaacbbcba': True, 'aaccabcababccbccacccaccaa': True, 'cccaabbbbbacbbaacaaacbbcc': True, 'cbaccbcaaccbcccabbacccbca': True, 'cbcbcaccbabacabacbcbaacaa': True, 'abbaccccbcbcccbccaabbbacb': True, 'bccbcbcaabaaacccaaabcabcc': True, 'cabbcbbcabacbbcabbcababca': True, 'bbcabaaaacbcbabbacbaccbbb': True, 'cccbcaabcababcccaabbaabbb': True, 'bcaacaaacbacccccccbacaabb': True, 'caacbbacabacabbccbaabaaaa': True, 'caaccbbbbbaacaabbbaabcbcb': True, 'bbbaaabcabbbbbacabbcabbca': True, 'ccccccbbbbcbbaababbbbcacc': True, 'acacbcacacccabaccbabccabb': True, 'cbabcbccbbacbaaccaaabacac': True, 'cccbccbcbacabccbabbabaaaa': True, 'cabcacbbbbbcacaabcbccabab': True, 'ccbbcccaccbbbbabacaacccbb': True, 'accacbacbaaabcbbaacbabbac': True, 'aacababcccccababaaaabacbb': True, 'bcaababcccbcabbcbacbaabca': True, 'bbcaabbaccacaabaacacbcacc': True, 'bbccaccbccaabcbcbacaaccbc': True, 'abaccbaaacbaccacaabccabcc': True, 'bacbaccbcaabccccbcacabaab': True, 'cabacbabbcaaccbaabbcaabab': True, 'acaccbbbbacbbbaabccbccacc': True, 'caabccabcaccbaaabaaaabbaa': True, 'bbacbbcaabaabbacabcccaabb': True, 'accbaccacaccbbaaaabcccbca': True, 'ccbcabbcababccbbcaaccaabb': True, 'bcbcbabbcacacaacbabbbbcba': True, 'acacaaccabcabbbbcacbcaaab': True, 'babbcbcaabaacbbcbabccbaac': True, 'ccbbaacccccababbaacbbbcbc': True, 'caababbbccacbaaaacccbcbcb': True, 'cbcaaaabcbbababbaacacccbb': True, 'bbccabcbccacaacbbcaacbccc': True, 'bacbcbaccacbaccbbbcabbbcc': True, 'babbacbaaaaaccaabccbcaaab': True, 'bbaaccbbbbcabccbcabbbcacc': True, 'abbbaabbacbcbacacabccbcab': True, 'aacbacccabaccbbaaacbbbbba': True, 'bcaaacbabcccbcbbacbccbccb': True, 'ccbaccccccaaabccaacaaabab': True, 'cabcaaacacbabcbbabaaccccc': True, 'cccbcaaabcaccbabccbaabccc': True, 'abbcccbabacbccacbaccaaaca': True, 'aaabcbabccacacabccabbbbcc': True, 'cabbcbccaccacaaaabcaacaaa': True, 'acaaaacbacbaaccbbcabcaaba': True, 'bcbbcaaaccbbcccabccababac': True, 'babacbaccacabcabcacbbaaca': True, 'bcaccacacaaacabcacabcaaaa': True, 'bbaccbbabaabacbcbaabbcacb': True, 'cbcccbcbaaccaaacccabacccc': True, 'bcbbbbccbcbcacccbabcaabba': True, 'acacccacaabcacbaabbaababc': True, 'bbabbcbbbccaaabaabaabaaba': True, 'cbcccaabcacbaacbcbabcccab': True, 'cccbbcbcbbbcbbccccbacbcbb': False, 'bbbcbcccccbaacccaacbcacca': False, 'bbbbbacacbcccccacaacbccbb': False, 'bcaccbbaaacbcacbcaaacacba': False, 'ccacbaaacbbcbcacbbcbcbbca': False, 'bbcaaaaacacacaacbaaacccbb': False, 'accbaccbbaaaccbaacbcbcbba': False, 'bccbbcbcbcacacaaaaaacccaa': False, 'cbaaaccaaccaaaaccaccccaaa': False, 'acbcbcccbaccbbbbbbaacbbac': False, 'bcbaccccbbaccbacaaacccccc': False, 'bbbaaaaccbccbbcbbcccbcacb': False, 'aacbccacccccbacccacaaccba': False, 'bccbcbbbbbaccaccbbbccbcac': False, 'bbbcbccbaacccacaaacccaacc': False, 'bacbbbbacbbcaaacaccccccca': False, 'cacbcaacaaccbbcbbbbccccba': False, 'baaccbcbacbbcaacacbacbbcb': False, 'bbacbbbcbaacbbbbbbaacbbbb': False, 'cacbcbcbacbccbccbcaccbbcb': False, 'cacccacaaacaacaccbcbacbaa': False, 'caaacacbacacbacacbbcaaacc': False, 'acccbbbbccbacbbbbbcbcaccb': False, 'cbbbcbccbbbccccaacccccbac': False, 'bcbbcaacbcbbacaaccacbccca': False, 'bbcaccacbcbcbbacbcbccaccc': False, 'cccaaccbacccacccccbaccbcc': False, 'cccbcbbbbaacaccccccacbbca': False, 'acbaacaaaaccbbbaccbcbcaca': False, 'bcacccaccccacbccbcaacbccc': False, 'acbbcaacbacaccaaccbcbacbb': False, 'acbccbacbacaaacbbccbcaaca': False, 'ccaaccbccccbbaaaaaccbccbb': False, 'bacccaacacaacacbbbacccaaa': False, 'acaccacbcaacbccaacbaccaca': False, 'bacbbacbaacacacccbcaccbbb': False, 'ccbbbccbcbbcaaaccbccbbbbb': False, 'ccbcaacccccccaacbacbcccbc': False, 'bbcbbccbacaacacaccaccbcba': False, 'cbacacbbaccbcacaccbbcbaac': False, 'bcbccbccccaacbbcaccbcacba': False, 'bbccbbcbacaacbbcaacaccaca': False, 'ccaaacccccccbcbbbccacacac': False, 'aacbcccccbcaacacaaccbbbaa': False, 'accbbbccbacbaaaaaaaccbbba': False, 'cccaaccaccbaccaccaacbacbc': False, 'bcaacccbcccaacbbcbbaccbaa': False, 'aacbbcaccacbcccacbcbccbaa': False, 'bbccaaaacbbacccacbcbbbcbb': False, 'baccbbaaaacccacbbccbcbbba': False, 'aaaacccbccacbaacaccbbbcca': False, 'aaaaaaaaccbcbaaacaacbbaca': False, 'bbbcbccbbaaacbaacbaacbcbc': False, 'bbbbbacaccbbacbcaacbbbaca': False, 'cbccccbbbbacbcacacbbccacb': False, 'aaaccbcbcaaaccaaaacacacbb': False, 'cacbccbcbacbcaaccbcacacbb': False, 'caccbcbaaaaacbcccbbbbbbbb': False, 'bbaccbaccacaaacbcbaaccbaa': False, 'acbaacbaacbcbbbacbacbbbcc': False, 'bacbcbcaaacccbcbcbbbccbca': False, 'bbacbccbbccccacaaaaaccaac': False, 'cbcbaaaccaacbcacbbbbaccba': False, 'cbaaaacaccacacaccbbccacac': False, 'cccaccccacacaccbcbcbaaccc': False, 'aaacbbcbbbbbbaccaccacaacb': False, 'accbcbcbacbacaccbcbaacccc': False, 'ccbacacbbcccccccbbbcacaaa': False, 'bccacaccccbcbcaacacbbbaac': False, 'cacaccacbbcaacbcccbcaacbc': False, 'bcbbcccbbbbbcacccaacbcccb': False, 'ccccbcacbaaacacaaaaacccba': False, 'aacccbacaacacbbacbaaccbca': False, 'acccccbcbcbbacccbcaacbbcb': False, 'bacacbacccbbacacbbcaccaac': False, 'cbbcccbacbcaccbaaacbaacbc': False, 'bbbbacbccbbcbcccbbbacaacc': False, 'acbcccbacacccbbbaaccccccb': False, 'cbcbbbcbcbccccbcaaccccacb': False, 'caaaccbcccbbcbbbbcbaaacbc': False, 'bbcbcaaccbbbcbccbaaaccbcb': False, 'cacaaaccbbccacaccccbbaccc': False, 'accbaacbaaccaaacacbbbaaac': False, 'caacbaacaccbcccbaacacaaca': False, 'bccaaacbacbcbbbaccaccaccc': False, 'cacccaacbaccaccbbaacacbcc': False, 'bbbbacbbbbcbcaacccaccacaa': False, 'baaaaaccccbbcbcacccaaacba': False, 'bacbbaacbbbacbbbbbccbbcba': False, 'bacaccaccbbbccaccbcbccbca': False, 'ccbcbcbacbcacacccbcbbacac': False, 'bccbbcacccbccbaaacbccbcbc': False, 'bbcbacacbacaccbbaccbbcbaa': False, 'bbbbcbbbccaccbbaccbcccaaa': False, 'accacbbbaacbaacaaacaccbba': False, 'caccacccaccaacaacaccbbaca': False, 'bbcbbcbbbcbacaccbccacbccc': False, 'cbbcbccbacbcacaaacaccbaaa': False, 'cbcbbccaacacaaaacbcacccbb': False, 'bbcbacbccccbbbbacbcbbbbba': False, 'accbcccbaacbcbbbcbcaaacca': False, 'bbbcbbccbbbbcbacaacaaacba': False, 'aacbbbcaacaacacbacacbaacb': False, 'cbbcaaccaccccbaaacaaaacba': False, 'caaacacbcbcbcbaccbbbbcbac': False, 'caaccaaccacbccbbacacaaaaa': False, 'bcabccaaacbbcbaabbcaaaacabaacc': True, 'baccbaaabbaabaacbcbbcbbacbbbbb': True, 'bbcaccccaccaccabaaaacabbcaccac': True, 'cbcabacacbbabcacacaabcaabacbbb': True, 'caacbacbcacacaaaccbcabbcbcbabb': True, 'bbacaababccaccabbbbbbaacbcaacc': True, 'bcbcabcccaabababbbaabbaacacbab': True, 'aabbacaacccccaabcbabaaabbcbaab': True, 'bbacabbaababcaacabbaaababccaab': True, 'bbbbbabbbacccbaabcbbaabcbbcbbb': True, 'acaabccbbcbcbaabcaacbbcabcaacc': True, 'cbbcaaabcccccbbbcbabacaabbbcbc': True, 'aaababcabbccccccbcabcbbbbccbab': True, 'bbacacabaaabcbabbaaabccbbacaca': True, 'bbcbccaccabcbccbcbaabbbccccacc': True, 'ccbbcaabaaabbcbbccacbccabbcaca': True, 'bbcacacbbcabbabbbbbacbbbaabbbb': True, 'bcbcbaccbbccabbccbccacbabacbaa': True, 'cacccbaaabbaacacabccbbcccccbba': True, 'bbbcbacacacbacaaccbbabcbcbbaba': True, 'aabbbcbccaabbccaaabcbbcbbcbaac': True, 'ccbbabcbbccbbcbcaaabcbabcbbccc': True, 'abbbbcaaabccababbbbacaacabcacb': True, 'bcabaaacacbcbabacbbabcaacbbccc': True, 'bbacbacacbcaabbbbbbacaaaaaccba': True, 'abbcbaccaaacabbbabacaacabaabac': True, 'abacabacbbbcacabbbababbcacbabc': True, 'caaacbbbcacacaaababaacbacccbbb': True, 'bccbcbacaacabaccabcacacaccabbc': True, 'aabbbaaabbcbaaacbbaabccbbbcbbb': True, 'cbbcacbbcabbbbbcacbbbcbcaaabcc': True, 'accabbcacababaabccbcccabbaaaac': True, 'caabbcbaaaaccbbacaaacacaacaabc': True, 'cbaacbabacccbabcbccbcbabbacbaa': True, 'bcbcabbbbaccccccbccccbccaccbac': True, 'acabbcbcccbacbbccabccbaacaabac': True, 'babbbabbcaacbccbbbbabaccaccbab': True, 'aacbcacbbaacbccbabacbabbcbaaca': True, 'accaabbbacccbabbcabbccaaccccbc': True, 'aaacbccbccaacaaabbccaccabcabbc': True, 'baabcccbbacacccaabbbbbcabccacb': True, 'bbbcbcbcaaccacabbccccbcbbbbcaa': True, 'bcabcacbacbbabacaaabcbabbacaaa': True, 'cccbcbacbaabbabcacbacabbccbcca': True, 'bccacbbacacbccaccbaabbcaccbacb': True, 'ababcbbbabcbcacabccbcbaccbbcba': True, 'bcaaababcbcbccaccbbbaccacababb': True, 'cccbaabaacbacaacbbaabacbbaaccb': True, 'caacbbaaabcaccbaccbcacbbbbcbaa': True, 'acbbaccccbbbcabccabbbccabbbcca': True, 'cbbbbacccccbbbbaaacccccaabacbc': True, 'cbbaabbabcbbcbcabbcabcbaabbcca': True, 'babaabcbcbbcbbbbccbbcbcccccacb': True, 'cabccbabbbbcbcababcbabcbabcccb': True, 'aabaacbccccaabbbccabbabababaab': True, 'bcbaaaccbbabcbcaacaabbbcbbbbcb': True, 'bacabccaababbbcacccbbaabcabcaa': True, 'aacbacabcbbcccacbaabaabaaabaaa': True, 'bbbbcaaabbcbbcaaccbacbababcccb': True, 'cacabcaaabcabccbaccbcbbccbaaca': True, 'bbbbbacbabbccbbacbacabbcbcbcab': True, 'bcbbcbaacbaabbbacabbbccabbacbc': True, 'bbccabaaccbbbccacccccbbccabbac': True, 'ccabbaaaaaaabbaaacacbcaabababc': True, 'baabacbbcacbcacacababbbaccbabc': True, 'bacccbbaaccabcaabcbbabaabbabaa': True, 'acbcacbabaccbbcabaaaacaaacaabb': True, 'cbbabbaabbcbababaabbaacbccbbca': True, 'aaccaabaabacabcbacbbaacabbcbcb': True, 'abbbbcabaccaccbacbbbbcaccaabab': True, 'bbbccccbccbbabbbbbbbbcaabaccca': True, 'aacaaaaaacbcaaacbbcabbcbacccab': True, 'ccbccbcbbaccbbcabbbbabbacacacc': True, 'accbcbbbcbaccbcaccaaacccaaacaa': False, 'acbbaacbccbaccaccacbccbaacbbac': False, 'baaccaccbbcccacbbccaaccbccacac': False, 'acacbaccacbbacbcacccbbbcccbacc': False, 'accacbbaaaaaaccbaaccbbbbcbaccc': False, 'cccbaccaacbacaacccaacccbaacbbb': False, 'cbbacbaccbaccbaacbbbacbbbaaaca': False, 'acbaacbbbaccccbcccccccaaaccbac': False, 'bcaacbacccbccacacaacbcbacbaacc': False, 'ccacbcbaacacacbcacbbcbbcbccacb': False, 'cbcaaaaccbcaccbaccbbbbbbbaccca': False, 'cbbccbccbccbbccaaaccccbcbbccaa': False, 'aaaacacbbacccbbbccacbbccbbcbaa': False, 'bccaaccaccccacaacccacccbcccaaa': False, 'bbbbacbccbbcaccccacbbccbcaaaaa': False, 'aaacaacbacbcacbaaccbbbccacacba': False, 'bcbaccbbcacaccbbaaaacccbacaccb': False, 'bbaaccbaaccacbbbcaaccbcccaccba': False, 'cbbbacaaaaaacacccaccacccacacbc': False, 'ccaccccbacccccbcccbcbbbbacbaca': False, 'bbcbcaaccacacbccbacacacaccccac': False, 'accbbbbccbcbcbbccaaccacacccbca': False, 'bacbbccaacbacbbccacacbbcccbaaa': False, 'cccbacbbcccaaccbccbbbbacaaaacc': False, 'bbcaaccccaacacbacbbacacccbbacc': False, 'bbacbcbcbbccbccacaccaccbccaacc': False, 'ccacacccbbbbbacbcbbbbbcbcbbacb': False, 'aacbbbbbacaccbcbcaacacaaacbaca': False, 'bcbbcbbbccbaaccbbaaaaaaccbbaaa': False, 'cbaaaacccbcbbbacbacaccbbacccbc': False, 'cbbbbcacbbcacbacbaaacbbbaccaca': False, 'bbbacbccbacbbbcacbcbccacccbcbb': False, 'bccacacccbcbcbcccbccbbbbccbacc': False, 'bcbcacbbacbacaaaaacccbbbccbccb': False, 'bbcbbaacbaccccbbbcacaccaaaccbc': False, 'bcccbacbacaacbbcaaacbbbcbbaaac': False, 'cbaccbbaaaaccbacbcccbcbaccbbca': False, 'bbbcbbbcaaaaccbaccacccacacccac': False, 'ccccbaccccbcbccaacbbbbbbcccccc': False, 'bcbacccbbbaaaaaaacbbccbacbcacc': False, 'ccbaacaaaacccbcacbbacbbcbaccca': False, 'ccccbbccbaccbccbbbcbacbcccbcac': False, 'bcccbbaaacbbbaaaccaccacbccaacb': False, 'bacbacacacbcbbaccbcacbbacbcbca': False, 'baacbaacccbacccbccbcbaacbbbaaa': False, 'aaaccbcaacccaaccbbbccbcbbbcbbc': False, 'cacccbbccbcacbbbacbccbbacbbcaa': False, 'cbcaccaacbbbcaaccbacaaccbaacca': False, 'baccbcccbaacbaaccbaccccccbccbc': False, 'caccacacbbaacbbaccbcacacbccbaa': False, 'bbacbbbcbaccaccbbbcbbcccbcaacc': False, 'cbbacbbbbacccacaccbccbbccaacbb': False, 'aaaaaccbbbbbacaacbbcacbccbaccb': False}\n"
    }
   ],
   "source": [
    "print(train_set)"
   ]
  },
  {
   "cell_type": "code",
   "execution_count": 8,
   "metadata": {},
   "outputs": [
    {
     "output_type": "stream",
     "name": "stdout",
     "text": "10860\n10860\n"
    }
   ],
   "source": [
    "print(len(train_set))\n",
    "if(target_formula==\"email match\"):\n",
    "    matching_strings=email.generate_matching_strings(1000,20)\n",
    "    for string in matching_strings:\n",
    "        train_set[string]=True\n",
    "print(len(train_set))"
   ]
  },
  {
   "cell_type": "code",
   "execution_count": null,
   "metadata": {},
   "outputs": [],
   "source": []
  },
  {
   "cell_type": "code",
   "execution_count": 17,
   "metadata": {},
   "outputs": [
    {
     "output_type": "stream",
     "name": "stdout",
     "text": "classification loss on last batch was: 0.00046116977508358254\ntesting on train set, i.e. test set is train set\ntest set size: 10860\nrnn score against target on test set:                              10860 (100.0)\n"
    }
   ],
   "source": [
    "\n",
    "\n",
    "# define rnn\n",
    "rnn = RNNClassifier(alphabet,num_layers=1,hidden_dim=10,RNNClass = LSTMNetwork)\n",
    "\n",
    "\n",
    "# train the model\n",
    "mixed_curriculum_train(rnn,train_set,stop_threshold = 0.0005)\n",
    "rnn.renew()  \n",
    "dfa_from_rnn=rnn \n",
    "# statistics\n",
    "\n",
    "def percent(num,digits=2):\n",
    "    tens = pow(10,digits)\n",
    "    return int(100*num*tens)/tens\n",
    "\n",
    "test_set = train_set \n",
    "print(\"testing on train set, i.e. test set is train set\")\n",
    "# we're printing stats on the train set for now, but you can define other test sets by using\n",
    "# make_train_set_for_target\n",
    "\n",
    "n = len(test_set)\n",
    "print(\"test set size:\", n)\n",
    "pos = 0\n",
    "rnn_target = 0\n",
    "for w in test_set:\n",
    "    if generator_dfa.classify_word(w):\n",
    "        pos+=1\n",
    "\n",
    "    if dfa_from_rnn.classify_word(w)==generator_dfa.classify_word(w):\n",
    "        rnn_target+=1\n",
    "print(\"rnn score against target on test set:                             \",rnn_target,\"(\"+str(percent(rnn_target/n))+\")\")\n",
    "\n",
    "# dfa_from_rnn=generator_dfa"
   ]
  },
  {
   "cell_type": "code",
   "execution_count": 11,
   "metadata": {
    "tags": [
     "outputPrepend",
     "outputPrepend",
     "outputPrepend",
     "outputPrepend",
     "outputPrepend",
     "outputPrepend",
     "outputPrepend",
     "outputPrepend",
     "outputPrepend",
     "outputPrepend",
     "outputPrepend",
     "outputPrepend",
     "outputPrepend",
     "outputPrepend",
     "outputPrepend",
     "outputPrepend",
     "outputPrepend",
     "outputPrepend",
     "outputPrepend",
     "outputPrepend",
     "outputPrepend",
     "outputPrepend",
     "outputPrepend",
     "outputPrepend",
     "outputPrepend",
     "outputPrepend",
     "outputPrepend",
     "outputPrepend",
     "outputPrepend",
     "outputPrepend",
     "outputPrepend",
     "outputPrepend",
     "outputPrepend",
     "outputPrepend",
     "outputPrepend",
     "outputPrepend",
     "outputPrepend",
     "outputPrepend",
     "outputPrepend",
     "outputPrepend",
     "outputPrepend",
     "outputPrepend",
     "outputPrepend",
     "outputPrepend",
     "outputPrepend",
     "outputPrepend",
     "outputPrepend",
     "outputPrepend",
     "outputPrepend",
     "outputPrepend",
     "outputPrepend",
     "outputPrepend",
     "outputPrepend",
     "outputPrepend",
     "outputPrepend",
     "outputPrepend",
     "outputPrepend",
     "outputPrepend",
     "outputPrepend",
     "outputPrepend",
     "outputPrepend"
    ]
   },
   "outputs": [
    {
     "output_type": "stream",
     "name": "stdout",
     "text": "\n\npositive traces---> \n[]\n\n\nnegative traces---> \n[]\n\n\n\nlearned LTL formula: true\nLearning took:  0.052208900451660156  s\nEQ test took  0.0021071434020996094  s\nnew counterexample:   should be rejected by implementation\n\n\npositive traces---> \n[]\n\n\nnegative traces---> \n['']\n\n\n\n0  iteration complete\n\n\n\nlearned LTL formula: false\nLearning took:  0.059403181076049805  s\nEQ test took  0.03915596008300781  s\nnew counterexample: ab  should be accepted by implementation\n\n\npositive traces---> \n['ab']\n\n\nnegative traces---> \n['']\n\n\n\n1  iteration complete\n\n\n\nstart formula depth: 1\nlearned LTL formula: a\nLearning took:  0.0794057846069336  s\nEQ test took  0.008790969848632812  s\nnew counterexample: a  should be rejected by implementation\n\n\npositive traces---> \n['ab']\n\n\nnegative traces---> \n['', 'a']\n\n\n\n2  iteration complete\n\n\n\nstart formula depth: 1\nlearned LTL formula: (X b)\nLearning took:  0.12059330940246582  s\nEQ test took  0.013554811477661133  s\nnew counterexample: bab  should be accepted by implementation\n\n\npositive traces---> \n['ab', 'bab']\n\n\nnegative traces---> \n['', 'a']\n\n\n\n3  iteration complete\n\n\n\nstart formula depth: 2\nlearned LTL formula: (F b)\nLearning took:  0.11565113067626953  s\nEQ test took  0.053034067153930664  s\nnew counterexample: b  should be rejected by implementation\n\n\npositive traces---> \n['ab', 'bab']\n\n\nnegative traces---> \n['', 'a', 'b']\n\n\n\n4  iteration complete\n\n\n\nstart formula depth: 2\nlearned LTL formula: (F (X b))\nLearning took:  0.23288798332214355  s\nNo positive counterexample found\nEQ test took  0.07785701751708984  s\nnew counterexample: bb  should be rejected by implementation\n\n\npositive traces---> \n['ab', 'bab']\n\n\nnegative traces---> \n['', 'a', 'b', 'bb']\n\n\n\n5  iteration complete\n\n\n\nstart formula depth: 3\nlearned LTL formula: ((F a) & (X ((F a) -> a)))\nLearning took:  0.9949691295623779  s\nEQ test took  0.01769089698791504  s\nnew counterexample: aba  should be accepted by implementation\n\n\npositive traces---> \n['ab', 'bab', 'aba']\n\n\nnegative traces---> \n['', 'a', 'b', 'bb']\n\n\n\n6  iteration complete\n\n\n\nstart formula depth: 5\nlearned LTL formula: (((F a) U b) & (F a))\nLearning took:  0.7574267387390137  s\nEQ test took  0.07990407943725586  s\nnew counterexample: ba  should be rejected by implementation\n\n\npositive traces---> \n['ab', 'bab', 'aba']\n\n\nnegative traces---> \n['', 'a', 'b', 'bb', 'ba']\n\n\n\n7  iteration complete\n\n\n\nstart formula depth: 5\nlearned LTL formula: (((X b) -> b) -> (X (X b)))\nLearning took:  0.84527587890625  s\nEQ test took  0.027505159378051758  s\nnew counterexample: aaab  should be accepted by implementation\n\n\npositive traces---> \n['ab', 'bab', 'aba', 'aaab']\n\n\nnegative traces---> \n['', 'a', 'b', 'bb', 'ba']\n\n\n\n8  iteration complete\n\n\n\nstart formula depth: 5\nlearned LTL formula: (F ((F b) & a))\nLearning took:  0.9967069625854492  s\nEQ test took  0.13491082191467285  s\nnew counterexample: acb  should be rejected by implementation\n\n\npositive traces---> \n['ab', 'bab', 'aba', 'aaab']\n\n\nnegative traces---> \n['', 'a', 'b', 'bb', 'ba', 'acb']\n\n\n\n9  iteration complete\n\n\n\nstart formula depth: 5\nlearned LTL formula: (F ((a U b) & a))\nLearning took:  1.7325100898742676  s\nEQ test took  0.18027782440185547  s\n\n\nepsilon= 0.05 delta= 0.05 max_trace_length= 20\nquery: true\nfinal ltl:  (F ((a U b) & a))\n\nTime taken: 6.640846252441406\nextracted LTL score against rnn on test set:                       10860 (100.0)\nextracted LTL score against target on rnn's test set:              10860 (100.0)\nextracted LTL score against rnn on test set (with query):          10860 (100.0)\nextracted LTL score against target on rnn's test set (with query): 10860 (100.0)\n      target query        explanation status  rnn score  explanation score  explanation score on ground truth  extraction time\n F(a & X(b))  true  (F ((a U b) & a))   True      100.0              100.0                              100.0         6.640846\n"
    }
   ],
   "source": [
    "\n",
    "\n",
    "# use a query LTL formula\n",
    "query_formula=\"true\"\n",
    "query_dfa=ltlf2dfa.translate_ltl2dfa(alphabet=[character for character in alphabet],formula=query_formula)\n",
    "\n",
    "\"\"\"  \n",
    "Create initial samples\n",
    "\"\"\"\n",
    "\n",
    "\n",
    "from RNNexplainer import Traces\n",
    "traces=Traces(rnn, alphabet)\n",
    "traces.label_from_network([])\n",
    "traces.write_in_file()\n",
    "\n",
    "\n",
    "\n",
    "\n",
    "from PACTeacher.pac_teacher import PACTeacher as Teacher \n",
    "explainer=Explainer(alphabet=[character for character in alphabet])\n",
    "teacher = Teacher(dfa_from_rnn,epsilon=.05, delta=.05, max_trace_length=20, max_formula_depth=10, query_dfa=query_dfa)\n",
    "\n",
    "\n",
    "\n",
    "import time\n",
    "start_time=time.time()\n",
    "from multiprocessing import Process, Queue\n",
    "explainer, flag= teacher.teach(explainer, traces, timeout = 15)\n",
    "end_time=time.time()\n",
    "\n",
    "\n",
    "print(\"\\n\\nepsilon=\", teacher.epsilon, \"delta=\", teacher.delta, \"max_trace_length=\", teacher.max_trace_length)\n",
    "print(\"query:\", query_formula)\n",
    "print(\"final ltl: \", explainer.ltl)\n",
    "\n",
    "fout=open(\"output/log.txt\", \"a\")\n",
    "fout.write(\"\\n\\nquery: \"+query_formula)\n",
    "fout.write(\"\\nfinal LTL: \"+ explainer.ltl)\n",
    "if(not flag):\n",
    "    fout.write(\" [incomplete]\")\n",
    "    print(\"incomplete formula\")\n",
    "fout.write(\"\\n\\n\")\n",
    "\n",
    "print(\"\\nTime taken:\", end_time-start_time)\n",
    "fout.close()\n",
    "\n",
    "\n",
    "test_set = train_set \n",
    "fout=open(\"output/log.txt\", \"a\")\n",
    "# fout.write(\"rnn score against target on test set:                             \"+str(rnn_target)+\"(\"+str(percent(rnn_target/n))+\")\")\n",
    "# fout.write(\"\\n\")\n",
    "\n",
    "performance_ltl_wo_query = performance_ltl_with_target_wo_query = performance_ltl = performance_ltl_with_target = 0\n",
    "\n",
    "\n",
    "for w in test_set:\n",
    "    if dfa_from_rnn.classify_word(w)==explainer.dfa.classify_word(w):\n",
    "        performance_ltl_wo_query+=1\n",
    "    if explainer.dfa.classify_word(w)==generator_dfa.classify_word(w):\n",
    "        performance_ltl_with_target_wo_query +=1\n",
    "    if (dfa_from_rnn.classify_word(w)and query_dfa.classify_word(w)) ==explainer.dfa.classify_word(w):\n",
    "        performance_ltl+=1\n",
    "    if explainer.dfa.classify_word(w)== (generator_dfa.classify_word(w) and query_dfa.classify_word(w)):\n",
    "        performance_ltl_with_target +=1\n",
    "\n",
    "print(\"extracted LTL score against rnn on test set:                      \",performance_ltl_wo_query,\"(\"+str(percent(performance_ltl_wo_query/n))+\")\")\n",
    "\n",
    "print(\"extracted LTL score against target on rnn's test set:             \",performance_ltl_with_target_wo_query,\"(\"+str(percent(performance_ltl_with_target_wo_query/n))+\")\")\n",
    "\n",
    "print(\"extracted LTL score against rnn on test set (with query):         \",performance_ltl,\"(\"+str(percent(performance_ltl/n))+\")\")\n",
    "\n",
    "print(\"extracted LTL score against target on rnn's test set (with query):\",performance_ltl_with_target,\"(\"+str(percent(performance_ltl_with_target/n))+\")\")\n",
    "\n",
    "fout.close()\n",
    "\n",
    "\n",
    "# report in a pandas file\n",
    "result = pd.DataFrame(columns=['target', \n",
    "                                'query', \n",
    "                                'explanation', \n",
    "                                'status', \n",
    "                                'rnn score', \n",
    "                                'explanation score', \n",
    "                                'explanation score on ground truth',\n",
    "                                'extraction time'\n",
    "                                ])\n",
    "\n",
    "result = result.append(\n",
    "    {\n",
    "        'target':target_formula,\n",
    "        'query':query_formula,\n",
    "        'explanation':explainer.ltl,\n",
    "        'status':flag,\n",
    "        'rnn score':percent(rnn_target/n),\n",
    "        'explanation score':percent(performance_ltl/n),\n",
    "        'explanation score on ground truth':percent(performance_ltl_with_target/n),\n",
    "        'extraction time': end_time-start_time\n",
    "    }, ignore_index=True\n",
    ")\n",
    "print(result.to_string(index=False))\n",
    "result.to_csv('output/result.csv', header=False, index=False, mode='a')\n"
   ]
  },
  {
   "cell_type": "code",
   "execution_count": 8,
   "metadata": {},
   "outputs": [],
   "source": [
    "# read result\n",
    "# df=pd.read_csv(\"output/result.csv\",header=None)\n",
    "# df.columns=['target', \n",
    "#             'query', \n",
    "#             'explanation', \n",
    "#             'status', \n",
    "#             'rnn score', \n",
    "#             'explanation score', \n",
    "#             'explanation score on ground truth',\n",
    "#             'extraction time'\n",
    "#             ]\n",
    "# print(df.to_string(index=False))"
   ]
  },
  {
   "cell_type": "code",
   "execution_count": null,
   "metadata": {},
   "outputs": [],
   "source": []
  }
 ],
 "metadata": {
  "language_info": {
   "name": "python",
   "codemirror_mode": {
    "name": "ipython",
    "version": 3
   },
   "version": "3.7.4-final"
  },
  "orig_nbformat": 2,
  "file_extension": ".py",
  "mimetype": "text/x-python",
  "name": "python",
  "npconvert_exporter": "python",
  "pygments_lexer": "ipython3",
  "version": 3,
  "kernelspec": {
   "name": "python3",
   "display_name": "Python 3"
  }
 },
 "nbformat": 4,
 "nbformat_minor": 2
}