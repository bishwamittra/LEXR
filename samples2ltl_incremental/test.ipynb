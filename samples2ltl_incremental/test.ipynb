{
 "nbformat": 4,
 "nbformat_minor": 2,
 "metadata": {
  "language_info": {
   "name": "python",
   "codemirror_mode": {
    "name": "ipython",
    "version": 3
   },
   "version": "3.7.4-final"
  },
  "orig_nbformat": 2,
  "file_extension": ".py",
  "mimetype": "text/x-python",
  "name": "python",
  "npconvert_exporter": "python",
  "pygments_lexer": "ipython3",
  "version": 3,
  "kernelspec": {
   "name": "python3",
   "display_name": "Python 3"
  }
 },
 "cells": [
  {
   "cell_type": "code",
   "execution_count": 20,
   "metadata": {},
   "outputs": [
    {
     "output_type": "stream",
     "name": "stdout",
     "text": "[]\n[Implies(first clause, Or(x, y))]\nSolving constraints in the solver s ...\nsat\n[first clause = True, y = True]\nCreate a new scope...\n[Implies(first clause, Or(x, y)),\n Implies(second clause, Not(y))]\nSolving updated set of constraints...\nsat\n[first clause = True,\n second clause = True,\n y = False,\n x = True]\nRestoring state...\n[Implies(first clause, Or(x, y))]\nSolving restored set of constraints...\nsat\n[first clause = True, x = True]\n"
    }
   ],
   "source": [
    "from z3 import *\n",
    "x = Bool('x')\n",
    "y = Bool('y')\n",
    "\n",
    "s = Solver()\n",
    "print(s)\n",
    "\n",
    "s.assert_and_track(Or(x,y),\"first clause\")\n",
    "print(s)\n",
    "print(\"Solving constraints in the solver s ...\")\n",
    "print(s.check())\n",
    "print(s.model())\n",
    "print(\"Create a new scope...\")\n",
    "s.push()\n",
    "s.assert_and_track(Not(y),\"second clause\")\n",
    "print(s)\n",
    "print(\"Solving updated set of constraints...\")\n",
    "print(s.check())\n",
    "print(s.model())\n",
    "print(\"Restoring state...\")\n",
    "s.pop()\n",
    "# s.assert_and_track(x > 9)\n",
    "print(s)\n",
    "print(\"Solving restored set of constraints...\")\n",
    "print(s.check())\n",
    "print(s.model())"
   ]
  },
  {
   "cell_type": "code",
   "execution_count": null,
   "metadata": {},
   "outputs": [],
   "source": []
  }
 ]
}