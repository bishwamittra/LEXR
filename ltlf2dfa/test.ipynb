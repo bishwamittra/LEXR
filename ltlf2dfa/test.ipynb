{
 "nbformat": 4,
 "nbformat_minor": 2,
 "metadata": {
  "language_info": {
   "name": "python",
   "codemirror_mode": {
    "name": "ipython",
    "version": 3
   },
   "version": "3.7.4-final"
  },
  "orig_nbformat": 2,
  "file_extension": ".py",
  "mimetype": "text/x-python",
  "name": "python",
  "npconvert_exporter": "python",
  "pygments_lexer": "ipython3",
  "version": 3,
  "kernelspec": {
   "name": "python3",
   "display_name": "Python 3"
  }
 },
 "cells": [
  {
   "cell_type": "code",
   "execution_count": 2,
   "metadata": {},
   "outputs": [
    {
     "output_type": "stream",
     "name": "stdout",
     "text": "('~', ('U', 'true', ('~', ('|', ('~', 'a'), ('X', 'b')))))\n"
    }
   ],
   "source": [
    "# testing ltl2dfa\n",
    "\n",
    "from Parser import MyParser\n",
    "\n",
    "formula = \"G(a|b)\"\n",
    "parser = MyParser()\n",
    "parsed_formula = parser(formula)\n",
    "# \"G(a->Xb)\" == \\not F \\not (a->Xb) == \\not true \\until \\not (a->Xb) == \\not true \\until \\not (\\not a \\or Xb)\n",
    "print(parsed_formula)"
   ]
  },
  {
   "cell_type": "code",
   "execution_count": 12,
   "metadata": {},
   "outputs": [],
   "source": [
    "from Translator import Translator\n",
    "from DotHandler import DotHandler\n",
    "\n",
    "formula = \"F(aUb)\"\n",
    "declare_flag = False #True if you want to compute DECLARE assumption for the formula\n",
    "\n",
    "translator = Translator(formula)\n",
    "translator.formula_parser()\n",
    "translator.translate()\n",
    "translator.createMonafile(declare_flag) #it creates automa.mona file\n",
    "translator.invoke_mona() #it returns an intermediate automa.dot file\n",
    "\n",
    "dotHandler = DotHandler()\n",
    "dotHandler.modify_dot()\n",
    "dotHandler.output_dot() #it returns the final automa.dot file"
   ]
  },
  {
   "cell_type": "code",
   "execution_count": null,
   "metadata": {},
   "outputs": [],
   "source": []
  }
 ]
}