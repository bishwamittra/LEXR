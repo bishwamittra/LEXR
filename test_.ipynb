{
 "nbformat": 4,
 "nbformat_minor": 2,
 "metadata": {
  "language_info": {
   "name": "python",
   "codemirror_mode": {
    "name": "ipython",
    "version": 3
   },
   "version": "3.7.4-final"
  },
  "orig_nbformat": 2,
  "file_extension": ".py",
  "mimetype": "text/x-python",
  "name": "python",
  "npconvert_exporter": "python",
  "pygments_lexer": "ipython3",
  "version": 3,
  "kernelspec": {
   "name": "python3",
   "display_name": "Python 3"
  }
 },
 "cells": [
  {
   "cell_type": "code",
   "execution_count": 2,
   "metadata": {},
   "outputs": [
    {
     "output_type": "stream",
     "name": "stdout",
     "text": "made train set of size: 325 , of which positive examples: 12\ncurrent average loss is:  0.03428693150772767\ncurrent average loss is:  0.01311410562518765\ncurrent average loss is:  0.007651405229561905\ncurrent average loss is:  0.005387921218404219\ncurrent average loss is:  0.004265756209326141\ncurrent average loss is:  0.0036953262182382435\ncurrent average loss is:  0.0032608490723830003\ncurrent average loss is:  0.0029038590651292067\ncurrent average loss is:  0.00260190303509052\ncurrent average loss is:  0.002341744166154128\ncurrent average loss is:  0.0013474718880281537\ncurrent average loss is:  0.0008994499839472527\ncurrent average loss is:  0.0006188383392488021\nclassification loss on last batch was: 0.0004995011600519373\nmade test set of size: 165\n"
    }
   ],
   "source": [
    "from lstar_extraction.LSTM import LSTMNetwork\n",
    "# from GRU import GRUNetwork\n",
    "from lstar_extraction.RNNClassifier import RNNClassifier\n",
    "from lstar_extraction.Training_Functions import mixed_curriculum_train,make_train_set_for_target,make_test_set\n",
    "from lstar_extraction.Tomita_Grammars import tomita_1, tomita_2, tomita_3, tomita_4, tomita_5, tomita_6, tomita_7\n",
    "\n",
    "\n",
    "# auxiliary function\n",
    "def to_trace(example,length_alphabet, char_to_int):\n",
    "    integer_encoded = [char_to_int[char] for char in example]\n",
    "    # one hot encode\n",
    "    onehot_encoded = list()\n",
    "    for value in integer_encoded:\n",
    "        letter = [0 for _ in range(length_alphabet)]\n",
    "        letter[value] = 1\n",
    "        onehot_encoded.append(letter)\n",
    "    # trace format\n",
    "    trace=\";\".join([\",\".join(map(str, record)) for record in onehot_encoded])\n",
    "\n",
    "    return trace\n",
    "\n",
    "\n",
    "# make training set\n",
    "target = tomita_1\n",
    "alphabet = \"01\"\n",
    "train_set = make_train_set_for_target(target,alphabet)\n",
    "\n",
    "\n",
    "# define the manual labelling of words\n",
    "# def target(w):\n",
    "#     if(\"a\" in w):\n",
    "#         return True\n",
    "#     return False\n",
    "# alphabet = \"abc\"\n",
    "# train_set = make_train_set_for_target(target,alphabet)\n",
    "\n",
    "# define rnn\n",
    "rnn = RNNClassifier(alphabet,num_layers=1,hidden_dim=10,RNNClass = LSTMNetwork)\n",
    "\n",
    "# train the model\n",
    "mixed_curriculum_train(rnn,train_set,stop_threshold = 0.0005)\n",
    "rnn.renew()  \n",
    "\n",
    "\n",
    "# generate_test_set\n",
    "test_set=make_test_set(alphabet)\n",
    "\n",
    "\n",
    "# membership queries\n",
    "positive_example=[]\n",
    "negative_example=[]\n",
    "\n",
    "for example in test_set:\n",
    "    if(rnn.classify_word(example)):\n",
    "        positive_example.append(example)\n",
    "    else:\n",
    "        negative_example.append(example)\n",
    "\n",
    "# write positive and negative examples as a traces in a file\n",
    "alphabet=\"01\"\n",
    "alphabet_length=len(alphabet)\n",
    "# define a mapping of chars to integers\n",
    "char_to_int = dict((c, i) for i, c in enumerate(alphabet))\n",
    "string=\"\"\n",
    "for example in positive_example:\n",
    "    trace=to_trace(example,alphabet_length,char_to_int)\n",
    "    if(trace != \"\"):\n",
    "        string+=trace+\"\\n\"\n",
    "string+=\"---\\n\"\n",
    "for example in negative_example:\n",
    "    trace=to_trace(example,alphabet_length,char_to_int)\n",
    "    if(trace != \"\"):\n",
    "        string+=trace+\"\\n\"\n",
    "fin=open(\"dummy.trace\",\"w\")\n",
    "fin.write(string[:-1])\n",
    "fin.close()\n",
    "\n",
    "\n",
    ""
   ]
  },
  {
   "cell_type": "code",
   "execution_count": 4,
   "metadata": {},
   "outputs": [],
   "source": [
    "# extract DFA from RNN\n",
    "from lstar_extraction.Extraction import extract\n",
    "\n",
    "# starting examples\n",
    "all_words = sorted(list(train_set.keys()),key=lambda x:len(x))\n",
    "pos = next((w for w in all_words if rnn.classify_word(w)==True),None)\n",
    "neg = next((w for w in all_words if rnn.classify_word(w)==False),None)\n",
    "starting_examples = [w for w in [pos,neg] if not None == w]\n",
    "\n",
    "rnn.renew()  "
   ]
  },
  {
   "cell_type": "code",
   "execution_count": 5,
   "metadata": {},
   "outputs": [
    {
     "output_type": "stream",
     "name": "stdout",
     "text": "provided counterexamples are: ['', '0']\nobs table refinement took 0.0\nguided starting equivalence query for DFA of size 2\n"
    },
    {
     "output_type": "display_data",
     "data": {
      "image/png": "[encoded data removed]",
      "text/plain": "<IPython.core.display.Image object>"
     },
     "metadata": {}
    },
    {
     "output_type": "stream",
     "name": "stdout",
     "text": "split wasn't perfect: gotta start over\nlstar successful: unrolling seems equivalent to proposed automaton\nequivalence checking took: 0.04850100000000168\noverall guided extraction time took: 0.049501999999996826\ngenerated counterexamples were: (format: (counterexample, counterexample generation time))\n\n"
    }
   ],
   "source": [
    "dfa = extract(rnn,time_limit = 50,initial_split_depth = 10,starting_examples=starting_examples)\n",
    ""
   ]
  },
  {
   "cell_type": "code",
   "execution_count": null,
   "metadata": {},
   "outputs": [],
   "source": []
  }
 ]
}