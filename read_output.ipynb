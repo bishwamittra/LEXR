{
 "cells": [
  {
   "cell_type": "code",
   "execution_count": 1,
   "metadata": {},
   "outputs": [],
   "source": [
    "import pandas as pd\n",
    "import numpy as np\n",
    "pd.options.display.max_colwidth = 400\n",
    "df = pd.read_csv(\"output/result.csv\", header=None)\n",
    "df.columns = ['target',\n",
    "              'query',\n",
    "              'explanation',\n",
    "              'status',\n",
    "              'test accuracy',\n",
    "              'rnn score',\n",
    "              'explanation score',\n",
    "              'explanation score on ground truth',\n",
    "              'extraction time',\n",
    "              'revised delta',\n",
    "              'revised epsilon',\n",
    "              'counterexamples',\n",
    "              'train size',\n",
    "              'test size',\n",
    "              'ltl_depth',\n",
    "            'lstar states',\n",
    "            'lstar explanation score',\n",
    "            'lstar explanation score on ground truth',\n",
    "            'lstar extraction time',\n",
    "            'lstar status', \n",
    "            'epsilon', \n",
    "            'delta'\n",
    "              ]\n"
   ]
  },
  {
   "cell_type": "code",
   "execution_count": 7,
   "metadata": {},
   "outputs": [],
   "source": [
    "replace_dict = dict(zip([\n",
    "            #    \"d\",\n",
    "            \"X\",\n",
    "            '|',\n",
    "            \"U\",\n",
    "            \"F\",\n",
    "            \"G\",\n",
    "            \"&\",\n",
    "            \"~\",\n",
    "            \"->\",\n",
    "            \"true\",\n",
    "            \"false\",\n",
    "        ], [\n",
    "\n",
    "            #    \"\\\\\\\\circ\",\n",
    "            \"_X_\",\n",
    "            \"_vee_\",\n",
    "            \"_U_\",\n",
    "            \"_F_\",\n",
    "            \"_G_\",\n",
    "            \"_wedge_\",\n",
    "            \"_neg_\",\n",
    "            \"_rightarrow_\",\n",
    "            \"_top_\",\n",
    "            \"_bot_\",\n",
    "        ]))\n",
    "\n",
    "        "
   ]
  },
  {
   "cell_type": "code",
   "execution_count": 10,
   "metadata": {
    "tags": [
     "outputPrepend"
    ]
   },
   "outputs": [
    {
     "output_type": "stream",
     "name": "stdout",
     "text": "\n\n\n\n('email match', '~p', 0.05)\nexplanation  extraction time  explanation score  epsilon  delta\n      false         0.445046              100.0     0.05   0.05\n      false         0.347830              100.0     0.10   0.05\n      false         0.299008              100.0     0.25   0.05\n      false         0.289296              100.0     0.50   0.05\n\n\n\n\n('email match', '~p', 0.1)\nexplanation  extraction time  explanation score  epsilon  delta\n      false         0.448936              100.0     0.05    0.1\n      false         0.337372              100.0     0.10    0.1\n      false         0.289710              100.0     0.25    0.1\n      false         0.262290              100.0     0.50    0.1\n\n\n\n\n('email match', '~p', 0.25)\nexplanation  extraction time  explanation score  epsilon  delta\n      false         0.374446              100.0     0.05   0.25\n      false         0.316435              100.0     0.10   0.25\n      false         0.288740              100.0     0.25   0.25\n      false         0.286168              100.0     0.50   0.25\n\n\n\n\n('email match', '~p', 0.5)\n               explanation  extraction time  explanation score  epsilon  delta\n                     false         0.350398             100.00     0.05    0.5\n (X (m U (p & (X (X m)))))       401.049925              91.73     0.10    0.5\n                     false         0.279299             100.00     0.25    0.5\n                     false         0.273210             100.00     0.50    0.5\n\n\n\n\n('email match', '~p', 0.05)\nexplanation  extraction time  explanation score  epsilon  delta\n      false         0.445046              100.0     0.05   0.05\n      false         0.448936              100.0     0.05   0.10\n      false         0.374446              100.0     0.05   0.25\n      false         0.350398              100.0     0.05   0.50\n\n\n\n\n('email match', '~p', 0.1)\n               explanation  extraction time  explanation score  epsilon  delta\n                     false         0.347830             100.00      0.1   0.05\n                     false         0.337372             100.00      0.1   0.10\n                     false         0.316435             100.00      0.1   0.25\n (X (m U (p & (X (X m)))))       401.049925              91.73      0.1   0.50\n\n\n\n\n('email match', '~p', 0.25)\nexplanation  extraction time  explanation score  epsilon  delta\n      false         0.299008              100.0     0.25   0.05\n      false         0.289710              100.0     0.25   0.10\n      false         0.288740              100.0     0.25   0.25\n      false         0.279299              100.0     0.25   0.50\n\n\n\n\n('email match', '~p', 0.5)\nexplanation  extraction time  explanation score  epsilon  delta\n      false         0.289296              100.0      0.5   0.05\n      false         0.262290              100.0      0.5   0.10\n      false         0.286168              100.0      0.5   0.25\n      false         0.273210              100.0      0.5   0.50\n"
    },
    {
     "output_type": "display_data",
     "data": {
      "text/plain": "<Figure size 432x288 with 0 Axes>"
     },
     "metadata": {}
    },
    {
     "output_type": "display_data",
     "data": {
      "text/plain": "<Figure size 432x288 with 0 Axes>"
     },
     "metadata": {}
    },
    {
     "output_type": "display_data",
     "data": {
      "text/plain": "<Figure size 432x288 with 0 Axes>"
     },
     "metadata": {}
    },
    {
     "output_type": "display_data",
     "data": {
      "text/plain": "<Figure size 432x288 with 0 Axes>"
     },
     "metadata": {}
    },
    {
     "output_type": "display_data",
     "data": {
      "text/plain": "<Figure size 432x288 with 0 Axes>"
     },
     "metadata": {}
    },
    {
     "output_type": "display_data",
     "data": {
      "text/plain": "<Figure size 432x288 with 0 Axes>"
     },
     "metadata": {}
    },
    {
     "output_type": "display_data",
     "data": {
      "text/plain": "<Figure size 432x288 with 0 Axes>"
     },
     "metadata": {}
    },
    {
     "output_type": "display_data",
     "data": {
      "text/plain": "<Figure size 432x288 with 0 Axes>"
     },
     "metadata": {}
    }
   ],
   "source": [
    "import matplotlib.pyplot as plt\n",
    "plt.rc('pdf', fonttype=42)\n",
    "plt.rc('ps', fonttype=42)\n",
    "\n",
    "targets = [\"email match\"]\n",
    "query_ = \"~p\"\n",
    "fixed_param_values = [0.05, 0.1, 0.25, 0.5]\n",
    "markersize = 20\n",
    "fontsize = 32\n",
    "labelsize = 20\n",
    "width = 0.5\n",
    "\n",
    "show = False\n",
    "\n",
    "\n",
    "for target in targets:\n",
    "    for fixed_param_value in fixed_param_values:\n",
    "\n",
    "        extracted_df=df[(df['target']==target)]\n",
    "        \n",
    "\n",
    "        grouplist=['target','query','delta']\n",
    "        for key, item in extracted_df.groupby(grouplist):\n",
    "            _,query,delta=key\n",
    "            if(delta != fixed_param_value or query != query_):\n",
    "                continue\n",
    "            \n",
    "            print(\"\\n\\n\\n\")\n",
    "            print(key)\n",
    "            \n",
    "            x_ = 'epsilon'\n",
    "            \n",
    "            item = item.sort_values(x_, ascending = True)\n",
    "            print(item[[ 'explanation','extraction time', 'explanation score', 'epsilon', 'delta']].to_string(index=False))\n",
    "            \n",
    "            fig = plt.figure()\n",
    "            ax = fig.add_axes([0,0,1,1])\n",
    "            ax.bar([i for i in range(len(item[x_].tolist()))],item['extraction time'], width)\n",
    "            plt.xticks([i for i in range(len(item[x_].tolist()))],item[x_])\n",
    "            plt.tick_params(labelsize=labelsize)\n",
    "            plt.ylabel(\"time (s)\", fontsize=fontsize)\n",
    "            plt.xlabel(r\"$\"+\"\\\\\"+x_+\"$\", fontsize=fontsize)\n",
    "            plt.tight_layout()\n",
    "\n",
    "            if(query==query_):\n",
    "                target_name=target\n",
    "                query_name=query\n",
    "                for key in replace_dict.keys():\n",
    "                     target_name= target_name.replace(key, replace_dict[key])\n",
    "                     query_name= query_name.replace(key, replace_dict[key])\n",
    "                     \n",
    "                plt.savefig(\"output/fig/\"+target_name.replace(\" \", \"_\")+\"_\"+query_name+\"_\"+x_+\"_\"+str(int(fixed_param_value*100))+\"_time.pdf\",bbox_inches='tight')\n",
    "            if(show):\n",
    "                plt.show()\n",
    "            plt.clf()\n",
    "\n",
    "        grouplist=['target','query','epsilon']\n",
    "\n",
    "\n",
    "for target in targets:\n",
    "    for fixed_param_value in fixed_param_values:\n",
    "\n",
    "        extracted_df=df[(df['target']==target)]\n",
    "\n",
    "        for key, item in extracted_df.groupby(grouplist):\n",
    "            _,query,epsilon=key\n",
    "            if(epsilon != fixed_param_value or query != query_):\n",
    "                continue\n",
    "            \n",
    "            print(\"\\n\\n\\n\")\n",
    "            print(key)\n",
    "\n",
    "            x_ = 'delta'\n",
    "            \n",
    "            item = item.sort_values(x_, ascending = True)\n",
    "            print(item[[ 'explanation','extraction time', 'explanation score', 'epsilon', 'delta']].to_string(index=False))\n",
    "            \n",
    "            fig = plt.figure()\n",
    "            ax = fig.add_axes([0,0,1,1])\n",
    "            ax.bar([i for i in range(len(item[x_].tolist()))],item['extraction time'], width)\n",
    "            plt.xticks([i for i in range(len(item[x_].tolist()))],item[x_])\n",
    "            plt.tick_params(labelsize=labelsize)\n",
    "            plt.ylabel(\"time (s)\", fontsize=fontsize)\n",
    "            plt.xlabel(r\"$\"+\"\\\\\"+x_+\"$\", fontsize=fontsize)\n",
    "            plt.tight_layout()\n",
    "            if(query==query_):\n",
    "                target_name=target\n",
    "                query_name=query\n",
    "                for key in replace_dict.keys():\n",
    "                     target_name= target_name.replace(key, replace_dict[key])\n",
    "                     query_name= query_name.replace(key, replace_dict[key])\n",
    "                     \n",
    "                plt.savefig(\"output/fig/\"+target_name.replace(\" \", \"_\")+\"_\"+query_name+\"_\"+x_+\"_\"+str(int(fixed_param_value*100))+\"_time.pdf\",bbox_inches='tight')\n",
    "            if(show):\n",
    "                plt.show()\n",
    "    \n",
    "            plt.clf()\n",
    "\n",
    "\n"
   ]
  },
  {
   "cell_type": "code",
   "execution_count": 3,
   "metadata": {},
   "outputs": [
    {
     "output_type": "stream",
     "name": "stdout",
     "text": "status                                       1.000000\ntest accuracy                              100.000000\nrnn score                                  100.000000\nexplanation score                          100.000000\nexplanation score on ground truth          100.000000\nextraction time                              0.308443\nrevised delta                                     NaN\nrevised epsilon                                   NaN\ntrain size                                   0.000000\ntest size                                  197.000000\nltl_depth                                    1.500000\nlstar states                                 3.000000\nlstar explanation score                    100.000000\nlstar explanation score on ground truth    100.000000\nlstar extraction time                        0.114677\nlstar status                                 1.000000\nepsilon                                      0.100000\ndelta                                        0.100000\ndtype: float64\n"
    }
   ],
   "source": [
    "print(df.groupby([], as_index=False).median())"
   ]
  },
  {
   "cell_type": "code",
   "execution_count": null,
   "metadata": {},
   "outputs": [],
   "source": []
  }
 ],
 "metadata": {
  "language_info": {
   "codemirror_mode": {
    "name": "ipython",
    "version": 3
   },
   "file_extension": ".py",
   "mimetype": "text/x-python",
   "name": "python",
   "nbconvert_exporter": "python",
   "pygments_lexer": "ipython3",
   "version": "3.7.4-final"
  },
  "orig_nbformat": 2,
  "kernelspec": {
   "name": "python3",
   "display_name": "Python 3"
  }
 },
 "nbformat": 4,
 "nbformat_minor": 2
}